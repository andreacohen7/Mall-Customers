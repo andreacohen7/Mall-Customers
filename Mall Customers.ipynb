{
 "cells": [
  {
   "cell_type": "markdown",
   "id": "7572beb5",
   "metadata": {},
   "source": [
    "# Mall Customers\n",
    "- Andrea Cohen\n",
    "- 04.25.2023"
   ]
  },
  {
   "cell_type": "markdown",
   "id": "9c7dff23",
   "metadata": {},
   "source": [
    "## Task:\n",
    "- To segment the customers based on age, gender, and interest."
   ]
  },
  {
   "cell_type": "markdown",
   "id": "d13a2356",
   "metadata": {},
   "source": [
    "## Data Source:\n",
    "- https://www.kaggle.com/datasets/shwetabh123/mall-customers"
   ]
  },
  {
   "cell_type": "markdown",
   "id": "e2d9c5cb",
   "metadata": {},
   "source": [
    "## Import Libraries"
   ]
  },
  {
   "cell_type": "code",
   "execution_count": null,
   "id": "53f603b6",
   "metadata": {},
   "outputs": [],
   "source": []
  }
 ],
 "metadata": {
  "kernelspec": {
   "display_name": "Python (dojo-env)",
   "language": "python",
   "name": "dojo-env"
  },
  "language_info": {
   "codemirror_mode": {
    "name": "ipython",
    "version": 3
   },
   "file_extension": ".py",
   "mimetype": "text/x-python",
   "name": "python",
   "nbconvert_exporter": "python",
   "pygments_lexer": "ipython3",
   "version": "3.9.15"
  },
  "toc": {
   "base_numbering": 1,
   "nav_menu": {},
   "number_sections": false,
   "sideBar": true,
   "skip_h1_title": false,
   "title_cell": "Table of Contents",
   "title_sidebar": "Contents",
   "toc_cell": false,
   "toc_position": {},
   "toc_section_display": true,
   "toc_window_display": false
  }
 },
 "nbformat": 4,
 "nbformat_minor": 5
}
