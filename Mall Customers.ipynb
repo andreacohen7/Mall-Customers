{
 "cells": [
  {
   "cell_type": "markdown",
   "id": "917ceb8c",
   "metadata": {},
   "source": [
    "# Mall Customers\n",
    "- Andrea Cohen\n",
    "- 04.25.2023"
   ]
  },
  {
   "cell_type": "markdown",
   "id": "e1533a3d",
   "metadata": {},
   "source": [
    "## Task:\n",
    "- To segment the customers based on age, gender, and interest."
   ]
  },
  {
   "cell_type": "markdown",
   "id": "c495ac60",
   "metadata": {},
   "source": [
    "## Data Source:\n",
    "- https://www.kaggle.com/datasets/shwetabh123/mall-customers"
   ]
  },
  {
   "cell_type": "markdown",
   "id": "175b7f75",
   "metadata": {},
   "source": [
    "## Import Libraries"
   ]
  },
  {
   "cell_type": "code",
   "execution_count": 1,
   "id": "d8a81a78",
   "metadata": {},
   "outputs": [],
   "source": [
    "import numpy as np\n",
    "import pandas as pd\n",
    "import matplotlib.pyplot as plt\n",
    "from sklearn.preprocessing import StandardScaler, OneHotEncoder\n",
    "from sklearn.compose import make_column_selector, make_column_transformer\n",
    "from sklearn.cluster import KMeans\n",
    "from sklearn.metrics import silhouette_score"
   ]
  },
  {
   "cell_type": "markdown",
   "id": "cdbddc45",
   "metadata": {},
   "source": [
    "## Load and inspect the data"
   ]
  },
  {
   "cell_type": "code",
   "execution_count": 2,
   "id": "9e343f2e",
   "metadata": {},
   "outputs": [
    {
     "data": {
      "text/html": [
       "<div>\n",
       "<style scoped>\n",
       "    .dataframe tbody tr th:only-of-type {\n",
       "        vertical-align: middle;\n",
       "    }\n",
       "\n",
       "    .dataframe tbody tr th {\n",
       "        vertical-align: top;\n",
       "    }\n",
       "\n",
       "    .dataframe thead th {\n",
       "        text-align: right;\n",
       "    }\n",
       "</style>\n",
       "<table border=\"1\" class=\"dataframe\">\n",
       "  <thead>\n",
       "    <tr style=\"text-align: right;\">\n",
       "      <th></th>\n",
       "      <th>Genre</th>\n",
       "      <th>Age</th>\n",
       "      <th>Annual Income (k$)</th>\n",
       "      <th>Spending Score (1-100)</th>\n",
       "    </tr>\n",
       "    <tr>\n",
       "      <th>CustomerID</th>\n",
       "      <th></th>\n",
       "      <th></th>\n",
       "      <th></th>\n",
       "      <th></th>\n",
       "    </tr>\n",
       "  </thead>\n",
       "  <tbody>\n",
       "    <tr>\n",
       "      <th>1</th>\n",
       "      <td>Male</td>\n",
       "      <td>19</td>\n",
       "      <td>15</td>\n",
       "      <td>39</td>\n",
       "    </tr>\n",
       "    <tr>\n",
       "      <th>2</th>\n",
       "      <td>Male</td>\n",
       "      <td>21</td>\n",
       "      <td>15</td>\n",
       "      <td>81</td>\n",
       "    </tr>\n",
       "    <tr>\n",
       "      <th>3</th>\n",
       "      <td>Female</td>\n",
       "      <td>20</td>\n",
       "      <td>16</td>\n",
       "      <td>6</td>\n",
       "    </tr>\n",
       "    <tr>\n",
       "      <th>4</th>\n",
       "      <td>Female</td>\n",
       "      <td>23</td>\n",
       "      <td>16</td>\n",
       "      <td>77</td>\n",
       "    </tr>\n",
       "    <tr>\n",
       "      <th>5</th>\n",
       "      <td>Female</td>\n",
       "      <td>31</td>\n",
       "      <td>17</td>\n",
       "      <td>40</td>\n",
       "    </tr>\n",
       "  </tbody>\n",
       "</table>\n",
       "</div>"
      ],
      "text/plain": [
       "             Genre  Age  Annual Income (k$)  Spending Score (1-100)\n",
       "CustomerID                                                         \n",
       "1             Male   19                  15                      39\n",
       "2             Male   21                  15                      81\n",
       "3           Female   20                  16                       6\n",
       "4           Female   23                  16                      77\n",
       "5           Female   31                  17                      40"
      ]
     },
     "metadata": {},
     "output_type": "display_data"
    },
    {
     "name": "stdout",
     "output_type": "stream",
     "text": [
      "<class 'pandas.core.frame.DataFrame'>\n",
      "Int64Index: 200 entries, 1 to 200\n",
      "Data columns (total 4 columns):\n",
      " #   Column                  Non-Null Count  Dtype \n",
      "---  ------                  --------------  ----- \n",
      " 0   Genre                   200 non-null    object\n",
      " 1   Age                     200 non-null    int64 \n",
      " 2   Annual Income (k$)      200 non-null    int64 \n",
      " 3   Spending Score (1-100)  200 non-null    int64 \n",
      "dtypes: int64(3), object(1)\n",
      "memory usage: 7.8+ KB\n"
     ]
    },
    {
     "data": {
      "text/plain": [
       "None"
      ]
     },
     "metadata": {},
     "output_type": "display_data"
    }
   ],
   "source": [
    "# load the dataset and check for unnecessary columns\n",
    "df = pd.read_csv('Data/Mall_Customers.csv', index_col = 'CustomerID')\n",
    "display(df.head())\n",
    "display(df.info())"
   ]
  },
  {
   "cell_type": "code",
   "execution_count": 3,
   "id": "0604e3c7",
   "metadata": {},
   "outputs": [
    {
     "data": {
      "text/plain": [
       "(200, 4)"
      ]
     },
     "execution_count": 3,
     "metadata": {},
     "output_type": "execute_result"
    }
   ],
   "source": [
    "df.shape"
   ]
  },
  {
   "cell_type": "markdown",
   "id": "f000a02c",
   "metadata": {},
   "source": [
    "- There are 200 rows and 4 columns."
   ]
  },
  {
   "cell_type": "code",
   "execution_count": 4,
   "id": "7deb7200",
   "metadata": {},
   "outputs": [
    {
     "data": {
      "text/plain": [
       "Genre                     object\n",
       "Age                        int64\n",
       "Annual Income (k$)         int64\n",
       "Spending Score (1-100)     int64\n",
       "dtype: object"
      ]
     },
     "execution_count": 4,
     "metadata": {},
     "output_type": "execute_result"
    }
   ],
   "source": [
    "# check datatypes\n",
    "df.dtypes"
   ]
  },
  {
   "cell_type": "markdown",
   "id": "9aee4b6f",
   "metadata": {},
   "source": [
    "- Genre is datatype object.\n",
    "- Age, Annual Income (k$), and Spending Score (1-100) are all datatype int64."
   ]
  },
  {
   "cell_type": "code",
   "execution_count": 5,
   "id": "086cfdcb",
   "metadata": {},
   "outputs": [
    {
     "data": {
      "text/html": [
       "<div>\n",
       "<style scoped>\n",
       "    .dataframe tbody tr th:only-of-type {\n",
       "        vertical-align: middle;\n",
       "    }\n",
       "\n",
       "    .dataframe tbody tr th {\n",
       "        vertical-align: top;\n",
       "    }\n",
       "\n",
       "    .dataframe thead th {\n",
       "        text-align: right;\n",
       "    }\n",
       "</style>\n",
       "<table border=\"1\" class=\"dataframe\">\n",
       "  <thead>\n",
       "    <tr style=\"text-align: right;\">\n",
       "      <th></th>\n",
       "      <th>Age</th>\n",
       "      <th>Annual Income (k$)</th>\n",
       "      <th>Spending Score (1-100)</th>\n",
       "    </tr>\n",
       "  </thead>\n",
       "  <tbody>\n",
       "    <tr>\n",
       "      <th>count</th>\n",
       "      <td>200.000000</td>\n",
       "      <td>200.000000</td>\n",
       "      <td>200.000000</td>\n",
       "    </tr>\n",
       "    <tr>\n",
       "      <th>mean</th>\n",
       "      <td>38.850000</td>\n",
       "      <td>60.560000</td>\n",
       "      <td>50.200000</td>\n",
       "    </tr>\n",
       "    <tr>\n",
       "      <th>std</th>\n",
       "      <td>13.969007</td>\n",
       "      <td>26.264721</td>\n",
       "      <td>25.823522</td>\n",
       "    </tr>\n",
       "    <tr>\n",
       "      <th>min</th>\n",
       "      <td>18.000000</td>\n",
       "      <td>15.000000</td>\n",
       "      <td>1.000000</td>\n",
       "    </tr>\n",
       "    <tr>\n",
       "      <th>25%</th>\n",
       "      <td>28.750000</td>\n",
       "      <td>41.500000</td>\n",
       "      <td>34.750000</td>\n",
       "    </tr>\n",
       "    <tr>\n",
       "      <th>50%</th>\n",
       "      <td>36.000000</td>\n",
       "      <td>61.500000</td>\n",
       "      <td>50.000000</td>\n",
       "    </tr>\n",
       "    <tr>\n",
       "      <th>75%</th>\n",
       "      <td>49.000000</td>\n",
       "      <td>78.000000</td>\n",
       "      <td>73.000000</td>\n",
       "    </tr>\n",
       "    <tr>\n",
       "      <th>max</th>\n",
       "      <td>70.000000</td>\n",
       "      <td>137.000000</td>\n",
       "      <td>99.000000</td>\n",
       "    </tr>\n",
       "  </tbody>\n",
       "</table>\n",
       "</div>"
      ],
      "text/plain": [
       "              Age  Annual Income (k$)  Spending Score (1-100)\n",
       "count  200.000000          200.000000              200.000000\n",
       "mean    38.850000           60.560000               50.200000\n",
       "std     13.969007           26.264721               25.823522\n",
       "min     18.000000           15.000000                1.000000\n",
       "25%     28.750000           41.500000               34.750000\n",
       "50%     36.000000           61.500000               50.000000\n",
       "75%     49.000000           78.000000               73.000000\n",
       "max     70.000000          137.000000               99.000000"
      ]
     },
     "execution_count": 5,
     "metadata": {},
     "output_type": "execute_result"
    }
   ],
   "source": [
    "# check for outliers and obvious errors\n",
    "df.describe()"
   ]
  },
  {
   "cell_type": "markdown",
   "id": "e927c921",
   "metadata": {},
   "source": [
    "- There are no obvious outliers or errors in the data."
   ]
  },
  {
   "cell_type": "code",
   "execution_count": 6,
   "id": "158412a1",
   "metadata": {},
   "outputs": [
    {
     "data": {
      "text/plain": [
       "0"
      ]
     },
     "execution_count": 6,
     "metadata": {},
     "output_type": "execute_result"
    }
   ],
   "source": [
    "# check for duplicated rows\n",
    "df.duplicated().sum()"
   ]
  },
  {
   "cell_type": "markdown",
   "id": "2d78c630",
   "metadata": {},
   "source": [
    "- There are 0 duplicates."
   ]
  },
  {
   "cell_type": "code",
   "execution_count": 7,
   "id": "8063114c",
   "metadata": {},
   "outputs": [
    {
     "data": {
      "text/plain": [
       "Genre                     0\n",
       "Age                       0\n",
       "Annual Income (k$)        0\n",
       "Spending Score (1-100)    0\n",
       "dtype: int64"
      ]
     },
     "execution_count": 7,
     "metadata": {},
     "output_type": "execute_result"
    }
   ],
   "source": [
    "# check for missing values\n",
    "df.isna().sum()"
   ]
  },
  {
   "cell_type": "markdown",
   "id": "a66f9d82",
   "metadata": {},
   "source": [
    "- There are 0 missing values."
   ]
  },
  {
   "cell_type": "code",
   "execution_count": 8,
   "id": "6f572e33",
   "metadata": {},
   "outputs": [
    {
     "data": {
      "text/plain": [
       "Female    112\n",
       "Male       88\n",
       "Name: Genre, dtype: int64"
      ]
     },
     "execution_count": 8,
     "metadata": {},
     "output_type": "execute_result"
    }
   ],
   "source": [
    "#check for inconsistencies in categorical data\n",
    "df['Genre'].value_counts()"
   ]
  },
  {
   "cell_type": "markdown",
   "id": "10153557",
   "metadata": {},
   "source": [
    "- There are no inconsistencies in the categorical data."
   ]
  },
  {
   "cell_type": "markdown",
   "id": "b8e3d4a0",
   "metadata": {},
   "source": [
    "## One-Hot Encode the categorical data and scale the numeric data"
   ]
  },
  {
   "cell_type": "code",
   "execution_count": 9,
   "id": "67ab5417",
   "metadata": {},
   "outputs": [
    {
     "data": {
      "text/html": [
       "<div>\n",
       "<style scoped>\n",
       "    .dataframe tbody tr th:only-of-type {\n",
       "        vertical-align: middle;\n",
       "    }\n",
       "\n",
       "    .dataframe tbody tr th {\n",
       "        vertical-align: top;\n",
       "    }\n",
       "\n",
       "    .dataframe thead th {\n",
       "        text-align: right;\n",
       "    }\n",
       "</style>\n",
       "<table border=\"1\" class=\"dataframe\">\n",
       "  <thead>\n",
       "    <tr style=\"text-align: right;\">\n",
       "      <th></th>\n",
       "      <th>0</th>\n",
       "      <th>1</th>\n",
       "      <th>2</th>\n",
       "      <th>3</th>\n",
       "      <th>4</th>\n",
       "    </tr>\n",
       "  </thead>\n",
       "  <tbody>\n",
       "    <tr>\n",
       "      <th>0</th>\n",
       "      <td>-1.424569</td>\n",
       "      <td>-1.738999</td>\n",
       "      <td>-0.434801</td>\n",
       "      <td>0.0</td>\n",
       "      <td>1.0</td>\n",
       "    </tr>\n",
       "    <tr>\n",
       "      <th>1</th>\n",
       "      <td>-1.281035</td>\n",
       "      <td>-1.738999</td>\n",
       "      <td>1.195704</td>\n",
       "      <td>0.0</td>\n",
       "      <td>1.0</td>\n",
       "    </tr>\n",
       "    <tr>\n",
       "      <th>2</th>\n",
       "      <td>-1.352802</td>\n",
       "      <td>-1.700830</td>\n",
       "      <td>-1.715913</td>\n",
       "      <td>1.0</td>\n",
       "      <td>0.0</td>\n",
       "    </tr>\n",
       "    <tr>\n",
       "      <th>3</th>\n",
       "      <td>-1.137502</td>\n",
       "      <td>-1.700830</td>\n",
       "      <td>1.040418</td>\n",
       "      <td>1.0</td>\n",
       "      <td>0.0</td>\n",
       "    </tr>\n",
       "    <tr>\n",
       "      <th>4</th>\n",
       "      <td>-0.563369</td>\n",
       "      <td>-1.662660</td>\n",
       "      <td>-0.395980</td>\n",
       "      <td>1.0</td>\n",
       "      <td>0.0</td>\n",
       "    </tr>\n",
       "  </tbody>\n",
       "</table>\n",
       "</div>"
      ],
      "text/plain": [
       "          0         1         2    3    4\n",
       "0 -1.424569 -1.738999 -0.434801  0.0  1.0\n",
       "1 -1.281035 -1.738999  1.195704  0.0  1.0\n",
       "2 -1.352802 -1.700830 -1.715913  1.0  0.0\n",
       "3 -1.137502 -1.700830  1.040418  1.0  0.0\n",
       "4 -0.563369 -1.662660 -0.395980  1.0  0.0"
      ]
     },
     "metadata": {},
     "output_type": "display_data"
    },
    {
     "name": "stdout",
     "output_type": "stream",
     "text": [
      "<class 'pandas.core.frame.DataFrame'>\n",
      "RangeIndex: 200 entries, 0 to 199\n",
      "Data columns (total 5 columns):\n",
      " #   Column  Non-Null Count  Dtype  \n",
      "---  ------  --------------  -----  \n",
      " 0   0       200 non-null    float64\n",
      " 1   1       200 non-null    float64\n",
      " 2   2       200 non-null    float64\n",
      " 3   3       200 non-null    float64\n",
      " 4   4       200 non-null    float64\n",
      "dtypes: float64(5)\n",
      "memory usage: 7.9 KB\n"
     ]
    },
    {
     "data": {
      "text/plain": [
       "None"
      ]
     },
     "metadata": {},
     "output_type": "display_data"
    }
   ],
   "source": [
    "#make column selectors\n",
    "cat_selector = make_column_selector(dtype_include = 'object')\n",
    "num_selector = make_column_selector(dtype_include = 'number')\n",
    "#save the column names\n",
    "cat_cols = cat_selector(df)\n",
    "num_cols = num_selector(df)\n",
    "#instantiate one hot encoder and standard scaler\n",
    "ohe = OneHotEncoder(sparse = False, handle_unknown='ignore')\n",
    "scaler = StandardScaler()\n",
    "#make tuples for the categorical and numeric columns\n",
    "cat_tuple = (ohe, cat_selector)\n",
    "num_tuple = (scaler, num_selector)\n",
    "#instantiate the column transformer\n",
    "col_transformer = make_column_transformer(num_tuple, cat_tuple, remainder = 'passthrough')\n",
    "#fit and transform data\n",
    "df_processed = col_transformer.fit_transform(df)\n",
    "processed_df = pd.DataFrame(df_processed)\n",
    "display(processed_df.head())\n",
    "display(processed_df.info())"
   ]
  },
  {
   "cell_type": "code",
   "execution_count": null,
   "id": "bf43eddb",
   "metadata": {},
   "outputs": [],
   "source": []
  }
 ],
 "metadata": {
  "kernelspec": {
   "display_name": "Python (dojo-env)",
   "language": "python",
   "name": "dojo-env"
  },
  "language_info": {
   "codemirror_mode": {
    "name": "ipython",
    "version": 3
   },
   "file_extension": ".py",
   "mimetype": "text/x-python",
   "name": "python",
   "nbconvert_exporter": "python",
   "pygments_lexer": "ipython3",
   "version": "3.9.15"
  },
  "toc": {
   "base_numbering": 1,
   "nav_menu": {},
   "number_sections": false,
   "sideBar": true,
   "skip_h1_title": false,
   "title_cell": "Table of Contents",
   "title_sidebar": "Contents",
   "toc_cell": false,
   "toc_position": {},
   "toc_section_display": true,
   "toc_window_display": false
  }
 },
 "nbformat": 4,
 "nbformat_minor": 5
}
